{
 "cells": [
  {
   "cell_type": "code",
   "execution_count": 1,
   "metadata": {},
   "outputs": [],
   "source": [
    "# Get pandas and postgres to work together\n",
    "import psycopg2 as pg\n",
    "import pandas as pd\n",
    "import pandas.io.sql as pd_sql"
   ]
  },
  {
   "cell_type": "code",
   "execution_count": 3,
   "metadata": {},
   "outputs": [],
   "source": [
    "yn_data = pd.read_csv('yn_data.csv', index_col=0)"
   ]
  },
  {
   "cell_type": "code",
   "execution_count": 4,
   "metadata": {},
   "outputs": [],
   "source": [
    "yn_data = yn_data.drop(['0'], axis=1)"
   ]
  },
  {
   "cell_type": "code",
   "execution_count": 32,
   "metadata": {},
   "outputs": [
    {
     "data": {
      "text/plain": [
       "['231',\n",
       " '115',\n",
       " '259',\n",
       " '256',\n",
       " '107',\n",
       " '208',\n",
       " '127',\n",
       " '176',\n",
       " '192',\n",
       " '164',\n",
       " '214',\n",
       " '124',\n",
       " '218',\n",
       " '239',\n",
       " '190',\n",
       " '157',\n",
       " '254',\n",
       " '177',\n",
       " '173',\n",
       " '206',\n",
       " '211',\n",
       " '130',\n",
       " '271',\n",
       " '219',\n",
       " '228',\n",
       " '118',\n",
       " '119',\n",
       " '232',\n",
       " '287',\n",
       " '134',\n",
       " '187',\n",
       " '270',\n",
       " '220',\n",
       " '249',\n",
       " '144',\n",
       " '202',\n",
       " '108',\n",
       " '132',\n",
       " '98',\n",
       " '159',\n",
       " '160',\n",
       " '103',\n",
       " '199',\n",
       " '207',\n",
       " '240',\n",
       " '138',\n",
       " '149',\n",
       " '250',\n",
       " '97',\n",
       " '116',\n",
       " '261',\n",
       " '200',\n",
       " '233',\n",
       " '147',\n",
       " '112',\n",
       " '252',\n",
       " '225',\n",
       " '257',\n",
       " '182',\n",
       " '194',\n",
       " '106',\n",
       " '245',\n",
       " '111',\n",
       " '209',\n",
       " '223',\n",
       " '236',\n",
       " '286',\n",
       " '212',\n",
       " '279',\n",
       " '179',\n",
       " '283',\n",
       " '113',\n",
       " '280',\n",
       " '278',\n",
       " '243',\n",
       " '102',\n",
       " '128',\n",
       " '131',\n",
       " '197',\n",
       " '205',\n",
       " '169',\n",
       " '284',\n",
       " '210',\n",
       " '172',\n",
       " '151',\n",
       " '183',\n",
       " '117',\n",
       " '109',\n",
       " '171',\n",
       " '288',\n",
       " '140',\n",
       " '230',\n",
       " '181',\n",
       " '248',\n",
       " '168',\n",
       " '129',\n",
       " '110',\n",
       " '234',\n",
       " '235',\n",
       " '141',\n",
       " '274',\n",
       " '146',\n",
       " '148',\n",
       " '180',\n",
       " '246',\n",
       " '185',\n",
       " '275',\n",
       " '251',\n",
       " '175',\n",
       " '282',\n",
       " '145',\n",
       " '114',\n",
       " '152',\n",
       " '267',\n",
       " '184',\n",
       " '133',\n",
       " '268',\n",
       " '201',\n",
       " '244',\n",
       " '125',\n",
       " '241',\n",
       " '155',\n",
       " '198',\n",
       " '101',\n",
       " '273',\n",
       " '186',\n",
       " '289',\n",
       " '104',\n",
       " '204',\n",
       " '203',\n",
       " '272',\n",
       " '277',\n",
       " '285',\n",
       " '260',\n",
       " '178',\n",
       " '247',\n",
       " '266',\n",
       " '150',\n",
       " '120',\n",
       " '139',\n",
       " '143',\n",
       " '126',\n",
       " '269',\n",
       " '121',\n",
       " '237',\n",
       " '238',\n",
       " '136',\n",
       " '213',\n",
       " '255',\n",
       " '276',\n",
       " '196',\n",
       " '222',\n",
       " '161',\n",
       " '258',\n",
       " '163',\n",
       " '242',\n",
       " '281',\n",
       " '264',\n",
       " '193',\n",
       " '158',\n",
       " '142',\n",
       " '99',\n",
       " '166',\n",
       " '216',\n",
       " '195',\n",
       " '253',\n",
       " '100',\n",
       " '156',\n",
       " '188',\n",
       " '153',\n",
       " '215',\n",
       " '229',\n",
       " '135',\n",
       " '224',\n",
       " '265',\n",
       " '191',\n",
       " '226',\n",
       " '137',\n",
       " '167',\n",
       " '96',\n",
       " '221',\n",
       " '262',\n",
       " '174',\n",
       " '122',\n",
       " '189',\n",
       " '154',\n",
       " '170',\n",
       " '263',\n",
       " '162',\n",
       " '217',\n",
       " '105',\n",
       " '165',\n",
       " '123',\n",
       " '227',\n",
       " 'Activity']"
      ]
     },
     "execution_count": 32,
     "metadata": {},
     "output_type": "execute_result"
    }
   ],
   "source": [
    "list(yn_data.columns)"
   ]
  },
  {
   "cell_type": "code",
   "execution_count": 25,
   "metadata": {},
   "outputs": [],
   "source": [
    "yn_data.to_csv('yn_clean.csv', index=False, header=True)"
   ]
  },
  {
   "cell_type": "code",
   "execution_count": 13,
   "metadata": {},
   "outputs": [],
   "source": [
    "# Postgres info to connect\n",
    "\n",
    "connection_args = {\n",
    "    'host': 'localhost',  # We are connecting to our _local_ version of psql\n",
    "    'dbname': 'p53',    # DB that we are connecting to\n",
    "    'port': 5432          # port we opened on AWS\n",
    "}\n",
    "\n",
    "# We will talk about this magic Python trick!\n",
    "connection = pg.connect(**connection_args)\n",
    "cursor = connection.cursor()"
   ]
  },
  {
   "cell_type": "code",
   "execution_count": 33,
   "metadata": {},
   "outputs": [
    {
     "ename": "InFailedSqlTransaction",
     "evalue": "current transaction is aborted, commands ignored until end of transaction block\n",
     "output_type": "error",
     "traceback": [
      "\u001b[0;31m---------------------------------------------------------------------------\u001b[0m",
      "\u001b[0;31mInFailedSqlTransaction\u001b[0m                    Traceback (most recent call last)",
      "\u001b[0;32m<ipython-input-33-e1da4079614f>\u001b[0m in \u001b[0;36m<module>\u001b[0;34m()\u001b[0m\n\u001b[0;32m----> 1\u001b[0;31m \u001b[0mcursor\u001b[0m\u001b[0;34m.\u001b[0m\u001b[0mexecute\u001b[0m\u001b[0;34m(\u001b[0m\u001b[0;34m\"CREATE TABLE yn_data(p231 INT, p115 INT, p259 INT, p256 INT, p107 INT, p208 INT, p127 INT, p176 INT, p192 INT, p164 INT, p214 INT, p124 INT, p218 INT, p239 INT, p190 INT, p157 INT, p254 INT, p177 INT, p173 INT, p206 INT, p211 INT, p130 INT, p271 INT, p219 INT, p228 INT, p118 INT, p119 INT, p232 INT, p287 INT, p134 INT, p187 INT, p270 INT, p220 INT, p249 INT, p144 INT, p202 INT, p108 INT, p132 INT, p98 INT, p159 INT, p160 INT, p103 INT, p199 INT, p207 INT, p240 INT, p138 INT, p149 INT, p250 INT, p116 INT, p261 INT, p200 INT, p233 INT, p147 INT, p112 INT, p252 INT, p225 INT, p257 INT, p182 INT, p194 INT, p106 INT, p245 INT, p111 INT, p209 INT, p223 INT, p236 INT, p286 INT, p212 INT, p279 INT, p179 INT, p283 INT, p113 INT, p280 INT, p278 INT, p243 INT, p102 INT, p128 INT, p131 INT, p197 INT, p205 INT, p169 INT, p284 INT, p210 INT, p172 INT, p151 INT, p183 INT, p117 INT, p109 INT, p171 INT, p288 INT, p140 INT, p230 INT, p181 INT, p248 INT, p168 INT, p129 INT, p110 INT, p234 INT, p235 INT, p141 INT, p274 INT, p146 INT, p148 INT, p180 INT, p246 INT, p185 INT, p275 INT, p251 INT, p175 INT, p282 INT, p145 INT, p114 INT, p152 INT, p267 INT, p184 INT, p133 INT, p268 INT, p201 INT, p244 INT, p125 INT, p241 INT, p155 INT, p198 INT, p101 INT, p273 INT, p186 INT, p289 INT, p104 INT, p204 INT, p203 INT, p272 INT, p277 INT, p285 INT, p260 INT, p178 INT, p247 INT, p266 INT, p150 INT, p120 INT, p139 INT, p143 INT, p126 INT, p269 INT, p121 INT, p237 INT, p238 INT, p136 INT, p213 INT, p255 INT, p276 INT, p196 INT, p222 INT, p161 INT, p258 INT, p163 INT, p242 INT, p281 INT, p264 INT, p193 INT, p158 INT, p142 INT, p99 INT, p166 INT, p216 INT, p195 INT, p253 INT, p100 INT, p156 INT, p188 INT, p153 INT, p215 INT, p229 INT, p135 INT, p224 INT, p265 INT, p191 INT, p226 INT, p137 INT, p167 INT, p96 INT, p221 INT, p262 INT, p174 INT, p122 INT, p189 INT, p154 INT, p170 INT, p263 INT, p162 INT, p217 INT, p105 INT, p165 INT, p123 INT, p227 INT, activity INT);\"\u001b[0m\u001b[0;34m)\u001b[0m\u001b[0;34m\u001b[0m\u001b[0;34m\u001b[0m\u001b[0m\n\u001b[0m\u001b[1;32m      2\u001b[0m \u001b[0;34m\u001b[0m\u001b[0m\n",
      "\u001b[0;31mInFailedSqlTransaction\u001b[0m: current transaction is aborted, commands ignored until end of transaction block\n"
     ]
    }
   ],
   "source": [
    "cursor.execute(\"CREATE TABLE yn_data(p231 INT, p115 INT, p259 INT, p256 INT, p107 INT, p208 INT, p127 INT, p176 INT, p192 INT, p164 INT, p214 INT, p124 INT, p218 INT, p239 INT, p190 INT, p157 INT, p254 INT, p177 INT, p173 INT, p206 INT, p211 INT, p130 INT, p271 INT, p219 INT, p228 INT, p118 INT, p119 INT, p232 INT, p287 INT, p134 INT, p187 INT, p270 INT, p220 INT, p249 INT, p144 INT, p202 INT, p108 INT, p132 INT, p98 INT, p159 INT, p160 INT, p103 INT, p199 INT, p207 INT, p240 INT, p138 INT, p149 INT, p250 INT, p116 INT, p261 INT, p200 INT, p233 INT, p147 INT, p112 INT, p252 INT, p225 INT, p257 INT, p182 INT, p194 INT, p106 INT, p245 INT, p111 INT, p209 INT, p223 INT, p236 INT, p286 INT, p212 INT, p279 INT, p179 INT, p283 INT, p113 INT, p280 INT, p278 INT, p243 INT, p102 INT, p128 INT, p131 INT, p197 INT, p205 INT, p169 INT, p284 INT, p210 INT, p172 INT, p151 INT, p183 INT, p117 INT, p109 INT, p171 INT, p288 INT, p140 INT, p230 INT, p181 INT, p248 INT, p168 INT, p129 INT, p110 INT, p234 INT, p235 INT, p141 INT, p274 INT, p146 INT, p148 INT, p180 INT, p246 INT, p185 INT, p275 INT, p251 INT, p175 INT, p282 INT, p145 INT, p114 INT, p152 INT, p267 INT, p184 INT, p133 INT, p268 INT, p201 INT, p244 INT, p125 INT, p241 INT, p155 INT, p198 INT, p101 INT, p273 INT, p186 INT, p289 INT, p104 INT, p204 INT, p203 INT, p272 INT, p277 INT, p285 INT, p260 INT, p178 INT, p247 INT, p266 INT, p150 INT, p120 INT, p139 INT, p143 INT, p126 INT, p269 INT, p121 INT, p237 INT, p238 INT, p136 INT, p213 INT, p255 INT, p276 INT, p196 INT, p222 INT, p161 INT, p258 INT, p163 INT, p242 INT, p281 INT, p264 INT, p193 INT, p158 INT, p142 INT, p99 INT, p166 INT, p216 INT, p195 INT, p253 INT, p100 INT, p156 INT, p188 INT, p153 INT, p215 INT, p229 INT, p135 INT, p224 INT, p265 INT, p191 INT, p226 INT, p137 INT, p167 INT, p96 INT, p221 INT, p262 INT, p174 INT, p122 INT, p189 INT, p154 INT, p170 INT, p263 INT, p162 INT, p217 INT, p105 INT, p165 INT, p123 INT, p227 INT, activity INT);\")\n",
    "\n"
   ]
  },
  {
   "cell_type": "code",
   "execution_count": 34,
   "metadata": {
    "scrolled": true
   },
   "outputs": [
    {
     "ename": "InFailedSqlTransaction",
     "evalue": "current transaction is aborted, commands ignored until end of transaction block\n",
     "output_type": "error",
     "traceback": [
      "\u001b[0;31m---------------------------------------------------------------------------\u001b[0m",
      "\u001b[0;31mInFailedSqlTransaction\u001b[0m                    Traceback (most recent call last)",
      "\u001b[0;32m<ipython-input-34-80959ec63346>\u001b[0m in \u001b[0;36m<module>\u001b[0;34m()\u001b[0m\n\u001b[0;32m----> 1\u001b[0;31m \u001b[0mcursor\u001b[0m\u001b[0;34m.\u001b[0m\u001b[0mexecute\u001b[0m\u001b[0;34m(\u001b[0m\u001b[0;34m\"SELECT * FROM yn_data LIMIT 5;\"\u001b[0m\u001b[0;34m)\u001b[0m\u001b[0;34m\u001b[0m\u001b[0;34m\u001b[0m\u001b[0m\n\u001b[0m\u001b[1;32m      2\u001b[0m \u001b[0;34m\u001b[0m\u001b[0m\n\u001b[1;32m      3\u001b[0m \u001b[0mlist\u001b[0m\u001b[0;34m(\u001b[0m\u001b[0mcursor\u001b[0m\u001b[0;34m.\u001b[0m\u001b[0mfetchall\u001b[0m\u001b[0;34m(\u001b[0m\u001b[0;34m)\u001b[0m\u001b[0;34m)\u001b[0m\u001b[0;34m\u001b[0m\u001b[0;34m\u001b[0m\u001b[0m\n",
      "\u001b[0;31mInFailedSqlTransaction\u001b[0m: current transaction is aborted, commands ignored until end of transaction block\n"
     ]
    }
   ],
   "source": [
    "cursor.execute(\"SELECT * FROM yn_data LIMIT 5;\")\n",
    "\n",
    "list(cursor.fetchall())"
   ]
  },
  {
   "cell_type": "code",
   "execution_count": null,
   "metadata": {},
   "outputs": [],
   "source": []
  }
 ],
 "metadata": {
  "kernelspec": {
   "display_name": "metis",
   "language": "python",
   "name": "metis"
  },
  "toc": {
   "base_numbering": 1,
   "nav_menu": {},
   "number_sections": true,
   "sideBar": true,
   "skip_h1_title": false,
   "title_cell": "Table of Contents",
   "title_sidebar": "Contents",
   "toc_cell": false,
   "toc_position": {},
   "toc_section_display": true,
   "toc_window_display": false
  },
  "varInspector": {
   "cols": {
    "lenName": 16,
    "lenType": 16,
    "lenVar": 40
   },
   "kernels_config": {
    "python": {
     "delete_cmd_postfix": "",
     "delete_cmd_prefix": "del ",
     "library": "var_list.py",
     "varRefreshCmd": "print(var_dic_list())"
    },
    "r": {
     "delete_cmd_postfix": ") ",
     "delete_cmd_prefix": "rm(",
     "library": "var_list.r",
     "varRefreshCmd": "cat(var_dic_list()) "
    }
   },
   "types_to_exclude": [
    "module",
    "function",
    "builtin_function_or_method",
    "instance",
    "_Feature"
   ],
   "window_display": false
  }
 },
 "nbformat": 4,
 "nbformat_minor": 2
}
